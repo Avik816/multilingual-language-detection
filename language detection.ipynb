{
 "cells": [
  {
   "cell_type": "markdown",
   "id": "65467ea4",
   "metadata": {},
   "source": [
    "# Language Detection\n",
    "#### Dataset: <a href='https://www.kaggle.com/datasets/basilb2s/language-detection'>Click Here</a>\n",
    "# Importing necessary libraries"
   ]
  },
  {
   "cell_type": "code",
   "execution_count": null,
   "id": "998cc2c7",
   "metadata": {},
   "outputs": [
    {
     "name": "stdout",
     "output_type": "stream",
     "text": [
      "WARNING:tensorflow:From c:\\Users\\Avik Chakraborty\\AppData\\Local\\Programs\\Python\\Python311\\Lib\\site-packages\\keras\\src\\losses.py:2976: The name tf.losses.sparse_softmax_cross_entropy is deprecated. Please use tf.compat.v1.losses.sparse_softmax_cross_entropy instead.\n",
      "\n"
     ]
    }
   ],
   "source": [
    "import polars\n",
    "import seaborn\n",
    "import matplotlib.pyplot as mplot\n",
    "from itertools import islice\n",
    "import os\n",
    "\n",
    "import re\n",
    "from sklearn.model_selection import train_test_split\n",
    "from sklearn.preprocessing import LabelEncoder\n",
    "\n",
    "import tensorflow\n",
    "from transformers import TFAutoModelForSequenceClassification, AutoTokenizer\n",
    "from tensorflow.keras.callbacks import EarlyStopping, ModelCheckpoint, ReduceLROnPlateau\n",
    "import datetime\n",
    "\n",
    "import numpy\n",
    "from sklearn.metrics import classification_report"
   ]
  },
  {
   "cell_type": "code",
   "execution_count": 2,
   "id": "997ef033",
   "metadata": {},
   "outputs": [
    {
     "data": {
      "text/html": [
       "<div><style>\n",
       ".dataframe > thead > tr,\n",
       ".dataframe > tbody > tr {\n",
       "  text-align: right;\n",
       "  white-space: pre-wrap;\n",
       "}\n",
       "</style>\n",
       "<small>shape: (5, 2)</small><table border=\"1\" class=\"dataframe\"><thead><tr><th>Text</th><th>Language</th></tr><tr><td>str</td><td>str</td></tr></thead><tbody><tr><td>&quot; Nature, in the broadest sense…</td><td>&quot;English&quot;</td></tr><tr><td>&quot;&quot;Nature&quot; can refer to the phen…</td><td>&quot;English&quot;</td></tr><tr><td>&quot;The study of nature is a large…</td><td>&quot;English&quot;</td></tr><tr><td>&quot;Although humans are part of na…</td><td>&quot;English&quot;</td></tr><tr><td>&quot;[1] The word nature is borrowe…</td><td>&quot;English&quot;</td></tr></tbody></table></div>"
      ],
      "text/plain": [
       "shape: (5, 2)\n",
       "┌─────────────────────────────────┬──────────┐\n",
       "│ Text                            ┆ Language │\n",
       "│ ---                             ┆ ---      │\n",
       "│ str                             ┆ str      │\n",
       "╞═════════════════════════════════╪══════════╡\n",
       "│  Nature, in the broadest sense… ┆ English  │\n",
       "│ \"Nature\" can refer to the phen… ┆ English  │\n",
       "│ The study of nature is a large… ┆ English  │\n",
       "│ Although humans are part of na… ┆ English  │\n",
       "│ [1] The word nature is borrowe… ┆ English  │\n",
       "└─────────────────────────────────┴──────────┘"
      ]
     },
     "execution_count": 2,
     "metadata": {},
     "output_type": "execute_result"
    }
   ],
   "source": [
    "dataset = polars.read_csv('Language Detection.csv')\n",
    "dataset.head()"
   ]
  },
  {
   "cell_type": "code",
   "execution_count": 3,
   "id": "80edc58e",
   "metadata": {},
   "outputs": [
    {
     "data": {
      "text/plain": [
       "(10337, 2)"
      ]
     },
     "execution_count": 3,
     "metadata": {},
     "output_type": "execute_result"
    }
   ],
   "source": [
    "dataset.shape"
   ]
  },
  {
   "cell_type": "markdown",
   "id": "f5c0579c",
   "metadata": {},
   "source": [
    "# Checking for missing values"
   ]
  },
  {
   "cell_type": "code",
   "execution_count": 4,
   "id": "f4d6739d",
   "metadata": {},
   "outputs": [
    {
     "data": {
      "text/html": [
       "<div><style>\n",
       ".dataframe > thead > tr,\n",
       ".dataframe > tbody > tr {\n",
       "  text-align: right;\n",
       "  white-space: pre-wrap;\n",
       "}\n",
       "</style>\n",
       "<small>shape: (1, 2)</small><table border=\"1\" class=\"dataframe\"><thead><tr><th>Text</th><th>Language</th></tr><tr><td>u32</td><td>u32</td></tr></thead><tbody><tr><td>0</td><td>0</td></tr></tbody></table></div>"
      ],
      "text/plain": [
       "shape: (1, 2)\n",
       "┌──────┬──────────┐\n",
       "│ Text ┆ Language │\n",
       "│ ---  ┆ ---      │\n",
       "│ u32  ┆ u32      │\n",
       "╞══════╪══════════╡\n",
       "│ 0    ┆ 0        │\n",
       "└──────┴──────────┘"
      ]
     },
     "execution_count": 4,
     "metadata": {},
     "output_type": "execute_result"
    }
   ],
   "source": [
    "dataset.null_count()"
   ]
  },
  {
   "cell_type": "markdown",
   "id": "4daa4e8b",
   "metadata": {},
   "source": [
    "# Visualizing the language distribution"
   ]
  },
  {
   "cell_type": "code",
   "execution_count": 5,
   "id": "bd548403",
   "metadata": {},
   "outputs": [
    {
     "data": {
      "text/html": [
       "<div><style>\n",
       ".dataframe > thead > tr,\n",
       ".dataframe > tbody > tr {\n",
       "  text-align: right;\n",
       "  white-space: pre-wrap;\n",
       "}\n",
       "</style>\n",
       "<small>shape: (17, 2)</small><table border=\"1\" class=\"dataframe\"><thead><tr><th>Language</th><th>count</th></tr><tr><td>str</td><td>u32</td></tr></thead><tbody><tr><td>&quot;Kannada&quot;</td><td>369</td></tr><tr><td>&quot;German&quot;</td><td>470</td></tr><tr><td>&quot;Tamil&quot;</td><td>469</td></tr><tr><td>&quot;Hindi&quot;</td><td>63</td></tr><tr><td>&quot;Turkish&quot;</td><td>474</td></tr><tr><td>&hellip;</td><td>&hellip;</td></tr><tr><td>&quot;Arabic&quot;</td><td>536</td></tr><tr><td>&quot;Russian&quot;</td><td>692</td></tr><tr><td>&quot;Spanish&quot;</td><td>819</td></tr><tr><td>&quot;Sweedish&quot;</td><td>676</td></tr><tr><td>&quot;French&quot;</td><td>1014</td></tr></tbody></table></div>"
      ],
      "text/plain": [
       "shape: (17, 2)\n",
       "┌──────────┬───────┐\n",
       "│ Language ┆ count │\n",
       "│ ---      ┆ ---   │\n",
       "│ str      ┆ u32   │\n",
       "╞══════════╪═══════╡\n",
       "│ Kannada  ┆ 369   │\n",
       "│ German   ┆ 470   │\n",
       "│ Tamil    ┆ 469   │\n",
       "│ Hindi    ┆ 63    │\n",
       "│ Turkish  ┆ 474   │\n",
       "│ …        ┆ …     │\n",
       "│ Arabic   ┆ 536   │\n",
       "│ Russian  ┆ 692   │\n",
       "│ Spanish  ┆ 819   │\n",
       "│ Sweedish ┆ 676   │\n",
       "│ French   ┆ 1014  │\n",
       "└──────────┴───────┘"
      ]
     },
     "execution_count": 5,
     "metadata": {},
     "output_type": "execute_result"
    }
   ],
   "source": [
    "dataset['Language'].value_counts()"
   ]
  },
  {
   "cell_type": "code",
   "execution_count": 6,
   "id": "69531bcf",
   "metadata": {},
   "outputs": [
    {
     "data": {
      "text/plain": [
       "<Axes: xlabel='Language', ylabel='count'>"
      ]
     },
     "execution_count": 6,
     "metadata": {},
     "output_type": "execute_result"
    },
    {
     "data": {
      "image/png": "[encoded data removed]",
      "text/plain": [
       "<Figure size 1500x400 with 1 Axes>"
      ]
     },
     "metadata": {},
     "output_type": "display_data"
    }
   ],
   "source": [
    "mplot.figure(figsize=(15, 4))\n",
    "seaborn.barplot(\n",
    "    data=dataset['Language'].value_counts(),\n",
    "    x='Language',\n",
    "    y='count'\n",
    ")"
   ]
  },
  {
   "cell_type": "code",
   "execution_count": 7,
   "id": "a9d3933c",
   "metadata": {},
   "outputs": [
    {
     "data": {
      "text/plain": [
       "1385"
      ]
     },
     "execution_count": 7,
     "metadata": {},
     "output_type": "execute_result"
    }
   ],
   "source": [
    "max(dataset['Language'].value_counts()['count'])"
   ]
  },
  {
   "cell_type": "code",
   "execution_count": 8,
   "id": "e7ff66f0",
   "metadata": {},
   "outputs": [
    {
     "name": "stdout",
     "output_type": "stream",
     "text": [
      "Necessary samples for Portugeese: 646\n",
      "Necessary samples for Spanish: 566\n",
      "Necessary samples for French: 371\n",
      "Necessary samples for Kannada: 1016\n",
      "Necessary samples for Tamil: 916\n",
      "Necessary samples for Russian: 693\n",
      "Necessary samples for Arabic: 849\n",
      "Necessary samples for Malayalam: 791\n",
      "Necessary samples for Sweedish: 709\n",
      "Necessary samples for Italian: 687\n",
      "Necessary samples for Greek: 1020\n",
      "Necessary samples for English: 0\n",
      "Necessary samples for Hindi: 1322\n",
      "Necessary samples for German: 915\n",
      "Necessary samples for Dutch: 839\n",
      "Necessary samples for Turkish: 911\n",
      "Necessary samples for Danish: 957\n"
     ]
    }
   ],
   "source": [
    "max_coupus_len = max(dataset['Language'].value_counts()['count'])\n",
    "lang_samples = {}\n",
    "\n",
    "for lang in dataset['Language'].value_counts()['Language']:\n",
    "    print(f'Necessary samples for {lang}: {max_coupus_len - dataset['Language'].value_counts().filter(polars.col('Language') == lang)['count'][0]}')\n",
    "    lang_samples.update({lang: max_coupus_len - dataset['Language'].value_counts().filter(polars.col('Language') == lang)['count'][0]})"
   ]
  },
  {
   "cell_type": "code",
   "execution_count": 9,
   "id": "1fb25538",
   "metadata": {},
   "outputs": [
    {
     "data": {
      "text/plain": [
       "{'Portugeese': 646,\n",
       " 'Spanish': 566,\n",
       " 'French': 371,\n",
       " 'Kannada': 1016,\n",
       " 'Tamil': 916,\n",
       " 'Russian': 693,\n",
       " 'Arabic': 849,\n",
       " 'Malayalam': 791,\n",
       " 'Sweedish': 709,\n",
       " 'Italian': 687,\n",
       " 'Greek': 1020,\n",
       " 'English': 0,\n",
       " 'Hindi': 1322,\n",
       " 'German': 915,\n",
       " 'Dutch': 839,\n",
       " 'Turkish': 911,\n",
       " 'Danish': 957}"
      ]
     },
     "execution_count": 9,
     "metadata": {},
     "output_type": "execute_result"
    }
   ],
   "source": [
    "lang_samples"
   ]
  },
  {
   "cell_type": "markdown",
   "id": "edec3dd1",
   "metadata": {},
   "source": [
    "#### Addressing the class imbalance issue:\n",
    "<ul>\n",
    "    <li>Need to add these many samples per language category by collecting data from external sources</li>\n",
    "    <li>These data have been collected from: <a href='https://tatoeba.org/en/downloads'>Tatoeba Website</a></li>\n",
    "    <li>From each file the above mentioned samples must be added on to the final dataset</li>\n",
    "</ul>\n",
    "\n",
    "# Performing sample addition"
   ]
  },
  {
   "cell_type": "code",
   "execution_count": 10,
   "id": "6c119a3d",
   "metadata": {},
   "outputs": [
    {
     "data": {
      "text/html": [
       "<div><style>\n",
       ".dataframe > thead > tr,\n",
       ".dataframe > tbody > tr {\n",
       "  text-align: right;\n",
       "  white-space: pre-wrap;\n",
       "}\n",
       "</style>\n",
       "<small>shape: (5, 2)</small><table border=\"1\" class=\"dataframe\"><thead><tr><th>Text</th><th>Language</th></tr><tr><td>str</td><td>str</td></tr></thead><tbody><tr><td>&quot;U m a   m e n i n a   c h o r …</td><td>&quot;Portugeese&quot;</td></tr><tr><td>&quot;V a m o s   t e n t a r   a l …</td><td>&quot;Portugeese&quot;</td></tr><tr><td>&quot;P r e c i s o   i r   d o r m …</td><td>&quot;Portugeese&quot;</td></tr><tr><td>&quot;O   s i n a l   &#x27; &amp; &#x27;   s i g …</td><td>&quot;Portugeese&quot;</td></tr><tr><td>&quot;A   m a r c a   &#x27; &amp; &#x27;   s i g …</td><td>&quot;Portugeese&quot;</td></tr></tbody></table></div>"
      ],
      "text/plain": [
       "shape: (5, 2)\n",
       "┌─────────────────────────────────┬────────────┐\n",
       "│ Text                            ┆ Language   │\n",
       "│ ---                             ┆ ---        │\n",
       "│ str                             ┆ str        │\n",
       "╞═════════════════════════════════╪════════════╡\n",
       "│ U m a   m e n i n a   c h o r … ┆ Portugeese │\n",
       "│ V a m o s   t e n t a r   a l … ┆ Portugeese │\n",
       "│ P r e c i s o   i r   d o r m … ┆ Portugeese │\n",
       "│ O   s i n a l   ' & '   s i g … ┆ Portugeese │\n",
       "│ A   m a r c a   ' & '   s i g … ┆ Portugeese │\n",
       "└─────────────────────────────────┴────────────┘"
      ]
     },
     "execution_count": 10,
     "metadata": {},
     "output_type": "execute_result"
    }
   ],
   "source": [
    "temp_df = {}\n",
    "sentences = []\n",
    "languages = []\n",
    "\n",
    "for lang, samples in lang_samples.items():\n",
    "    if lang != 'English':\n",
    "        with open(file='extra datasets/'+lang+'_sentences.tsv', mode='r', encoding='UTF-8') as fp:\n",
    "            lines = islice(fp, samples)\n",
    "        \n",
    "            for line in lines:\n",
    "                sentence = line.split('\\t')[-1]\n",
    "                sentences.append(' '.join(sentence))\n",
    "                languages.append(lang)\n",
    "\n",
    "\n",
    "temp_df.update({'Text': sentences, 'Language': languages})\n",
    "temp_df = polars.DataFrame(data=temp_df)\n",
    "temp_df.head()"
   ]
  },
  {
   "cell_type": "code",
   "execution_count": 11,
   "id": "4b524159",
   "metadata": {},
   "outputs": [
    {
     "data": {
      "text/plain": [
       "(12088, 2)"
      ]
     },
     "execution_count": 11,
     "metadata": {},
     "output_type": "execute_result"
    }
   ],
   "source": [
    "temp_df.shape"
   ]
  },
  {
   "cell_type": "code",
   "execution_count": 14,
   "id": "650a063b",
   "metadata": {},
   "outputs": [],
   "source": [
    "dataset = dataset.vstack(temp_df)\n",
    "del temp_df, languages, sentences"
   ]
  },
  {
   "cell_type": "code",
   "execution_count": 15,
   "id": "f89483f8",
   "metadata": {},
   "outputs": [
    {
     "data": {
      "text/plain": [
       "<Axes: xlabel='Language', ylabel='count'>"
      ]
     },
     "execution_count": 15,
     "metadata": {},
     "output_type": "execute_result"
    },
    {
     "data": {
      "image/png": "[encoded data removed]",
      "text/plain": [
       "<Figure size 1500x400 with 1 Axes>"
      ]
     },
     "metadata": {},
     "output_type": "display_data"
    }
   ],
   "source": [
    "mplot.figure(figsize=(15, 4))\n",
    "seaborn.barplot(\n",
    "    data=dataset['Language'].value_counts(),\n",
    "    x='Language',\n",
    "    y='count'\n",
    ")"
   ]
  },
  {
   "cell_type": "markdown",
   "id": "e877911d",
   "metadata": {},
   "source": [
    "#### Addressing the class imbalance issue:\n",
    "<ul>\n",
    "    <li>Tamil and Kannada still have imabalance</li>\n",
    "    <li>The extra data is collected from: <a href='https://huggingface.co/datasets/cfilt/IITB-IndicMonoDoc'>HuggingFace - IIITB-IndicMonoDoc repository</a></li>\n",
    "</ul>"
   ]
  },
  {
   "cell_type": "code",
   "execution_count": 16,
   "id": "79cd3f4c",
   "metadata": {},
   "outputs": [
    {
     "data": {
      "text/plain": [
       "(22425, 2)"
      ]
     },
     "execution_count": 16,
     "metadata": {},
     "output_type": "execute_result"
    }
   ],
   "source": [
    "dataset.shape"
   ]
  },
  {
   "cell_type": "code",
   "execution_count": 2,
   "id": "bd72c5a0",
   "metadata": {},
   "outputs": [],
   "source": [
    "def add_languages(filename, samples):\n",
    "    lang = []\n",
    "\n",
    "    with open(file=filename, mode='r', encoding='UTF-8') as fp:\n",
    "        lines = islice(fp, samples)\n",
    "\n",
    "        for line in lines:\n",
    "            if line.strip() not in ['<DOC_START>', '<DOC_END>']:\n",
    "                line = line.split('\\u0964')\n",
    "                \n",
    "                if len(line) > 1:\n",
    "                    for l in line:\n",
    "                        if l != '\\n':\n",
    "                            lang.append(l)\n",
    "                else:\n",
    "                    if line[0] != '\\n':\n",
    "                        lang.append(line[0])\n",
    "\n",
    "    return lang"
   ]
  },
  {
   "cell_type": "code",
   "execution_count": 28,
   "id": "7d8ffd9d",
   "metadata": {},
   "outputs": [],
   "source": [
    "temp_df = {}\n",
    "\n",
    "for file in os.listdir('extra datasets'):\n",
    "    if file.endswith('.txt'):\n",
    "        \n",
    "        samples = 2000\n",
    "        while True:\n",
    "            lang = add_languages(filename='extra datasets/' + file, samples=samples)\n",
    "            \n",
    "            if len(lang) == 1385:\n",
    "                temp_df.update({file[:-4:]: lang})\n",
    "                break\n",
    "            elif len(lang) > 1385:\n",
    "                temp_df.update({file[:-4:]: lang[:1385:]})\n",
    "                break\n",
    "            else:\n",
    "                samples += 1000\n",
    "                continue\n"
   ]
  },
  {
   "cell_type": "code",
   "execution_count": 15,
   "id": "a95f93db",
   "metadata": {},
   "outputs": [
    {
     "data": {
      "text/html": [
       "<div><style>\n",
       ".dataframe > thead > tr,\n",
       ".dataframe > tbody > tr {\n",
       "  text-align: right;\n",
       "  white-space: pre-wrap;\n",
       "}\n",
       "</style>\n",
       "<small>shape: (2, 2)</small><table border=\"1\" class=\"dataframe\"><thead><tr><th>Language</th><th>count</th></tr><tr><td>str</td><td>u32</td></tr></thead><tbody><tr><td>&quot;Tamil&quot;</td><td>1029</td></tr><tr><td>&quot;Kannada&quot;</td><td>621</td></tr></tbody></table></div>"
      ],
      "text/plain": [
       "shape: (2, 2)\n",
       "┌──────────┬───────┐\n",
       "│ Language ┆ count │\n",
       "│ ---      ┆ ---   │\n",
       "│ str      ┆ u32   │\n",
       "╞══════════╪═══════╡\n",
       "│ Tamil    ┆ 1029  │\n",
       "│ Kannada  ┆ 621   │\n",
       "└──────────┴───────┘"
      ]
     },
     "execution_count": 15,
     "metadata": {},
     "output_type": "execute_result"
    }
   ],
   "source": [
    "dataset.filter(polars.col('Language').is_in(['Tamil', 'Kannada']))['Language'].value_counts()"
   ]
  },
  {
   "cell_type": "code",
   "execution_count": 30,
   "id": "c10dabc8",
   "metadata": {},
   "outputs": [],
   "source": [
    "temp_df.update({'Tamil': temp_df['Tamil'][:1385-1029:]})\n",
    "temp_df.update({'Kannada': temp_df['Kannada'][:1385-621:]})"
   ]
  },
  {
   "cell_type": "code",
   "execution_count": 31,
   "id": "f9409b34",
   "metadata": {},
   "outputs": [
    {
     "data": {
      "text/html": [
       "<div><style>\n",
       ".dataframe > thead > tr,\n",
       ".dataframe > tbody > tr {\n",
       "  text-align: right;\n",
       "  white-space: pre-wrap;\n",
       "}\n",
       "</style>\n",
       "<small>shape: (3, 2)</small><table border=\"1\" class=\"dataframe\"><thead><tr><th>Text</th><th>Language</th></tr><tr><td>list[str]</td><td>str</td></tr></thead><tbody><tr><td>[&quot;বাংলাদেশ-ভুটানের মধ্যকার কূটনৈতিক সম্পর্কের ৫০ বছর উপলক্ষে এই দিনেই সই হলো অগ্রাধিকারমূলক বাণিজ্য চুক্তি (পিটিএ)&quot;, &quot; এ চুক্তির আওতায় ভুটানের বাজারে তৈরি পোশাক, প্রক্রিয়াজাত খাদ্যসামগ্রী, কৃষিজাত পণ্য, প্রসাধনী সামগ্রী, শুঁটকি মাছ, কৃষিজাত পণ্য, চা, প্লাইউড, লাইট ইঞ্জিনিয়ারিং পণ্যসহ মোট একশটি পণ্যের শুল্কমুক্ত সুবিধা পেলো বাংলাদেশ&quot;, … &quot;মঙ্গলবার এক বিবৃতিতে এ তথ্য নিশ্চিত করেন মার্কিন পররাষ্ট্রমন্ত্রী মাইক পম্পেও&quot;]</td><td>&quot;Bengali&quot;</td></tr><tr><td>[&quot;ಅಡಿಗರು ಮತ್ತು ರಾಯರು ಚಾಪೆ ಹಾಸಿ ಸ್ವಲ್ಪ ಹೊತ್ತು ಮಲಗಿ ಕಾಫಿ ಕುಡಿದು ಹೊರಟುಹೋದಿದ್ದರು. ಜಾತ್ರೆ ದಿನ ಜಗನ್ನಾಥನ ಮನೆಗೆ ಬರಬಹುದಾದ ನೂರಾರು ಯಾತ್ರಿಕರಿಗಾಗಿ ಅಡಿಗರು ತಂದ ಒಣಗಿದ ಬಾಳೆಲೆ ಕಟ್ಟುಗಳನ್ನೂ ದೊನ್ನೆಗಳನ್ನೂ ಚಿಕ್ಕಿ ಕೊಂಡಿದ್ದರು. ಆದರೆ ತಮ್ಮಲ್ಲಿಗೆ ಯಾರಾದರೂ ಇನ್ನು ಮುಂದೆ ಊಟಕ್ಕೆ ಬರುವುದುಂಟೆ ಎಂದು ದುಃಖಿಸುತ್ತ ಜಗಣ್ಣನಿಗೆ ಬುದ್ಧಿ ಹೇಳುವಂತೆ ಅಡಿಗರನ್ನು ಬೇಡಿದ್ದಳು. ಕಾಲಾಯ ತಸ್ಮೈ ನಮಃ ಎಂದು ಸಮಾಧಾನ ಹೇಳಿದ ಅಡಿಗರಿಗೆ ‘ನಿಮ್ಮ ಮಕ್ಕಳಿಗೆ ಕೊಡಿ’ ಎಂದು ಬಾಳೆಲ್ಲಿ ಜಿಲೇಬಿ ಕಟ್ಟಿಕೊಟ್ಟರು.\n",
       "&quot;, &quot;ಇಬ್ಬರೂ ಹೋದ ಮೇಲೆ ಜಗನ್ನಾಥ ಆತುರದಿಂದ ಹೊಲೆಯರ ಯುವಕರಿಗಾಗಿ ಕಾದ. ಚಾವಡಿಯಲ್ಲಿ ಕುರ್ಚಿಯ ಮೇಲೆ ಕೂತು ಇವತ್ತು ಬಂದವರು ತನ್ನನ್ನು ಮುಟ್ಟುವರೋ ನೋಡಬೇಕು ಅಂದುಕೊಂಡ. ಈ ತನಕ ಆ ಬಗ್ಗೆ ತಾನು ವಿಚಾರ ಮಾಡಲೇ ಇಲ್ಲವಲ್ಲ ಎನ್ನಿಸಿತು. ಮರಳಿನಲ್ಲಿ ಅಕ್ಷರ ಕಲಿಯುತ್ತಿದ್ದವರಿಗೆ ತಾನು ತಂದ ಹೊಸ ಸ್ಲೇಟು ಬಳಪಗಳನ್ನು ಕೊಡಲೆಂದು ಪಕ್ಕದಲ್ಲಿಟ್ಟುಕೊಂಡಿದ್ದ. ಅವರು ಕಲಿಯಲೇಬೇಕಾದ ಅತ್ಯಗತ್ಯ ಅಕ್ಷರಗಳು ಯಾವುವು, ಓದಲು ಕಲಿತ ಮೇಲೆ ಅವರಿಗೆ ಕೊಡಲು ಯೋಗ್ಯವಾದ ಪುಸ್ತಕಗಳು ಎಷ್ಟಿವೆ? ‘ಚೋಮನ ದುಡಿ’ ಓದಿಸಬೇಕು. ಮತ್ತೆ ತಾನೇ ಸರಳವಾಗಿ ಬರೆಯಬೇಕು ಬಸವಣ್ಣನ ಬಗ್ಗೆ, ಈಸೂರಿನ ಬಗ್ಗೆ, ಫ್ರೆಂಚ್ ರಷ್ಯನ್ ಕ್ರಾಂತಿಗಳ ಬಗ್ಗೆ, ಚೀನಾದ ಸಾಂಸ್ಕೃತಿಕ ಕ್ರಾಂತಿಯ ಬಗ್ಗೆ. ಕೆಲವು ಪುಟಗಳನ್ನು ಆಗಲೇ ಬರೆದಿದ್ದ. ಅವುಗಳನ್ನು ನಾಳೆ ಓದುವುದೆಂದುಕೊಂಡ. ಅವರ ಜೊತೆ ಏನನ್ನಾದರೂ ಮಾತಾಡಲು ಮುಜುಗರಪಡಬಾರದು. ಅವರಿಗೆ ನಿಜವಾಗುವಷ್ಟು ಮಾತ್ರ ನಿಜ ಎನ್ನುವ ಕಠಿಣ ವ್ರತಿಯಾಗಬೇಕು. ತನಗೆ ನಿಜವಾದದ್ದನ್ನೆಲ್ಲ ಅವರಿಗೂ ನಿಜ ಮಾಡುತ್ತ ಹೋಗಬೇಕು. ತನ್ನನ್ನು ಅವರು ತಾವಾಗಿಯೇ ಮುಟ್ಟುವಷ್ಟು ಮುಂದುವರೆದರೆ ಆ ಘಳಿಗೆಯಿಂದ ಉಳಿದದ್ದೆಲ್ಲ ಕ್ರಮೇಣ ನಿಜವಾಗುತ್ತ ಹೋಗುತ್ತದೆ ಮಂಜುನಾಥ ಹಿಂದೆ ಸರಿಯುತ್ತ ಹೋಗುತ್ತಾನೆ. ಅರಳಲು ಪ್ರಾರಂಭವಾಗುತ್ತದೆ. ಆತುರದಿಂದ ಕಾದ.\n",
       "&quot;, … &quot;೧೯೪೭ ರ ಆಗಸ್ಟ್‌ ೨೯ ರಂದು ಭಾರತದ ರಾಜ್ಯಾಂಗ ಸಿದ್ಧಗೊಳಿಸಲು ಒಂದು ಸಮಿತಿ ರಚಿತವಾಯಿತು. ಅಧ್ಯಕ್ಷರಾಗಿ ಅಂಬೇಡಕರ್ ಆಯ್ಕೆಯಾದರು. ಸಮಿತಿಯ ಒಬ್ಬ ಸದಸ್ಯರಾಗಿದ್ದ ಶ್ರೀ ಟಿ.ಟಿ. ಕೃಷ್ಣಮಾಚಾರಿಯವರೇ ಹೀಗೆ ಹೇಳಿದ್ದಾರೆ:\n",
       "&quot;]</td><td>&quot;Kannada&quot;</td></tr><tr><td>[&quot;``இந்தத் திட்டத்தில் சேர குறைந்தபட்சம் 1 கிராம் தங்கம் அளவுக்காவது முதலீடு செய்திருக்க வேண்டும். திட்டத்துக்கான கால அளவானது எட்டு வருடங்கள் ஆகும்.”\n",
       "&quot;, &quot;ரிசர்வ் வங்கியின் சாவ்ரன் கோல்ட் பாண்ட் (Sovereign Gold Bond) திட்டத்தில் சந்தா செலுத்துவதற்கான தேதிகள் அறிவிக்கப்பட்டுள்ளன. இந்தத் திட்டத்தில் ஜூலை 6 முதல் ஜூலை 10-ம் தேதி வரை சந்தா செலுத்த அவகாசம் அளிக்கப்பட்டுள்ளது. இந்தத் திட்டமானது நவம்பர் 2015-ல் தங்கத்தை அப்படியே வாங்குவதைக் குறைக்கும் நோக்கிலும், நிதி சேமிப்பை ஊக்கப்படுத்தவும் கொண்டு வரப்பட்டது.\n",
       "&quot;, … &quot;ஜே.பி நகர் சுற்றுப்புறத்தில் உள்ள கட்டுமான தளத்தில் பணிகளை துவங்குவதற்கான அவர்களது திட்டம், கோவிட் 19யை முன்னிட்டு ஊரடங்கு அறிவித்ததால் பாதிக்கப்பட்டது. அவர்கள் கொரோனாவைப் பற்றி அறிந்திருக்கவில்லை இப்பொழுதும் அவர்களுக்கு எதுவும் தெரியாது யாரோ எங்களிடம் கவனமாக இருக்கும்படி கூறினர், ஆனால் எதைப் பற்றி கவனமாக இருக்க வேண்டும் என்று கூட எங்களுக்கு தெரியாது. எங்களுக்கு தெரிந்ததெல்லாம் எங்களுக்கு வேலை இல்லை என்பது தான் என்று ஏப்ரல் மாதத் துவக்கத்தில் நாங்கள் அவர்களை முதலில் சந்தித்தபோது அமோதா கூறினார்.\n",
       "&quot;]</td><td>&quot;Tamil&quot;</td></tr></tbody></table></div>"
      ],
      "text/plain": [
       "shape: (3, 2)\n",
       "┌─────────────────────────────┬──────────┐\n",
       "│ Text                        ┆ Language │\n",
       "│ ---                         ┆ ---      │\n",
       "│ list[str]                   ┆ str      │\n",
       "╞═════════════════════════════╪══════════╡\n",
       "│ [\"বাংলাদেশ-ভুটানের মধ্যকার কূট…    ┆ Bengali  │\n",
       "│ [\"ಅಡಿಗರು ಮತ್ತು ರಾಯರು ಚಾಪೆ ಹಾಸಿ… ┆ Kannada  │\n",
       "│ [\"``இந்தத் திட்டத்தில் சேர குற…  ┆ Tamil    │\n",
       "└─────────────────────────────┴──────────┘"
      ]
     },
     "execution_count": 31,
     "metadata": {},
     "output_type": "execute_result"
    }
   ],
   "source": [
    "temp_df = {'Text': temp_df.values(), 'Language': [key for key in temp_df.keys()]}\n",
    "temp_df = polars.DataFrame(data=temp_df)\n",
    "temp_df.head()"
   ]
  },
  {
   "cell_type": "code",
   "execution_count": 32,
   "id": "9f3c8d08",
   "metadata": {},
   "outputs": [
    {
     "data": {
      "text/html": [
       "<div><style>\n",
       ".dataframe > thead > tr,\n",
       ".dataframe > tbody > tr {\n",
       "  text-align: right;\n",
       "  white-space: pre-wrap;\n",
       "}\n",
       "</style>\n",
       "<small>shape: (5, 2)</small><table border=\"1\" class=\"dataframe\"><thead><tr><th>Text</th><th>Language</th></tr><tr><td>str</td><td>str</td></tr></thead><tbody><tr><td>&quot;বাংলাদেশ-ভুটানের মধ্যকার কূটনৈ…</td><td>&quot;Bengali&quot;</td></tr><tr><td>&quot; এ চুক্তির আওতায় ভুটানের বাজার…</td><td>&quot;Bengali&quot;</td></tr><tr><td>&quot; ২০২৪ সালে স্বল্পোন্নত দেশ থেক…</td><td>&quot;Bengali&quot;</td></tr><tr><td>&quot;আজ রবিবার ফরেন সার্ভিস একাডেমি…</td><td>&quot;Bengali&quot;</td></tr><tr><td>&quot; এর আগে দ্বিপাক্ষিক অগ্রাধিকার…</td><td>&quot;Bengali&quot;</td></tr></tbody></table></div>"
      ],
      "text/plain": [
       "shape: (5, 2)\n",
       "┌─────────────────────────────┬──────────┐\n",
       "│ Text                        ┆ Language │\n",
       "│ ---                         ┆ ---      │\n",
       "│ str                         ┆ str      │\n",
       "╞═════════════════════════════╪══════════╡\n",
       "│ বাংলাদেশ-ভুটানের মধ্যকার কূটনৈ…    ┆ Bengali  │\n",
       "│  এ চুক্তির আওতায় ভুটানের বাজার…    ┆ Bengali  │\n",
       "│  ২০২৪ সালে স্বল্পোন্নত দেশ থেক… ┆ Bengali  │\n",
       "│ আজ রবিবার ফরেন সার্ভিস একাডেমি… ┆ Bengali  │\n",
       "│  এর আগে দ্বিপাক্ষিক অগ্রাধিকার…   ┆ Bengali  │\n",
       "└─────────────────────────────┴──────────┘"
      ]
     },
     "execution_count": 32,
     "metadata": {},
     "output_type": "execute_result"
    }
   ],
   "source": [
    "temp_df = temp_df.explode(columns='Text')\n",
    "temp_df.head()"
   ]
  },
  {
   "cell_type": "code",
   "execution_count": 33,
   "id": "989a3d8f",
   "metadata": {},
   "outputs": [
    {
     "data": {
      "text/html": [
       "<div><style>\n",
       ".dataframe > thead > tr,\n",
       ".dataframe > tbody > tr {\n",
       "  text-align: right;\n",
       "  white-space: pre-wrap;\n",
       "}\n",
       "</style>\n",
       "<small>shape: (0, 2)</small><table border=\"1\" class=\"dataframe\"><thead><tr><th>Language</th><th>count</th></tr><tr><td>str</td><td>u32</td></tr></thead><tbody></tbody></table></div>"
      ],
      "text/plain": [
       "shape: (0, 2)\n",
       "┌──────────┬───────┐\n",
       "│ Language ┆ count │\n",
       "│ ---      ┆ ---   │\n",
       "│ str      ┆ u32   │\n",
       "╞══════════╪═══════╡\n",
       "└──────────┴───────┘"
      ]
     },
     "execution_count": 33,
     "metadata": {},
     "output_type": "execute_result"
    }
   ],
   "source": [
    "dataset.vstack(temp_df)['Language'].value_counts().filter(polars.col('count') > 1385)"
   ]
  },
  {
   "cell_type": "code",
   "execution_count": 34,
   "id": "1eb963a1",
   "metadata": {},
   "outputs": [
    {
     "data": {
      "text/plain": [
       "(24930, 2)"
      ]
     },
     "execution_count": 34,
     "metadata": {},
     "output_type": "execute_result"
    }
   ],
   "source": [
    "dataset = dataset.vstack(temp_df)\n",
    "del temp_df\n",
    "dataset.shape"
   ]
  },
  {
   "cell_type": "code",
   "execution_count": 35,
   "id": "32048e44",
   "metadata": {},
   "outputs": [
    {
     "data": {
      "text/plain": [
       "<Axes: xlabel='Language', ylabel='count'>"
      ]
     },
     "execution_count": 35,
     "metadata": {},
     "output_type": "execute_result"
    },
    {
     "data": {
      "image/png": "[encoded data removed]",
      "text/plain": [
       "<Figure size 1600x400 with 1 Axes>"
      ]
     },
     "metadata": {},
     "output_type": "display_data"
    }
   ],
   "source": [
    "mplot.figure(figsize=(16, 4))\n",
    "seaborn.barplot(\n",
    "    data=dataset['Language'].value_counts(),\n",
    "    x='Language',\n",
    "    y='count'\n",
    ")"
   ]
  },
  {
   "cell_type": "markdown",
   "id": "4af3d3f2",
   "metadata": {},
   "source": [
    "##### The classes are balanced now, model will generalize well\n",
    "#### Saving the file for futher use"
   ]
  },
  {
   "cell_type": "code",
   "execution_count": 37,
   "id": "b2d956e0",
   "metadata": {},
   "outputs": [],
   "source": [
    "dataset.write_csv('Final Language Dataset.csv')"
   ]
  },
  {
   "cell_type": "markdown",
   "id": "cdce9d9e",
   "metadata": {},
   "source": [
    "# Preprocessing of Texts\n",
    "## Checking for null"
   ]
  },
  {
   "cell_type": "code",
   "execution_count": 18,
   "id": "5987f81a",
   "metadata": {},
   "outputs": [
    {
     "data": {
      "text/html": [
       "<div><style>\n",
       ".dataframe > thead > tr,\n",
       ".dataframe > tbody > tr {\n",
       "  text-align: right;\n",
       "  white-space: pre-wrap;\n",
       "}\n",
       "</style>\n",
       "<small>shape: (1, 2)</small><table border=\"1\" class=\"dataframe\"><thead><tr><th>Text</th><th>Language</th></tr><tr><td>u32</td><td>u32</td></tr></thead><tbody><tr><td>0</td><td>0</td></tr></tbody></table></div>"
      ],
      "text/plain": [
       "shape: (1, 2)\n",
       "┌──────┬──────────┐\n",
       "│ Text ┆ Language │\n",
       "│ ---  ┆ ---      │\n",
       "│ u32  ┆ u32      │\n",
       "╞══════╪══════════╡\n",
       "│ 0    ┆ 0        │\n",
       "└──────┴──────────┘"
      ]
     },
     "execution_count": 18,
     "metadata": {},
     "output_type": "execute_result"
    }
   ],
   "source": [
    "dataset.null_count()"
   ]
  },
  {
   "cell_type": "markdown",
   "id": "acfef2e5",
   "metadata": {},
   "source": [
    "## Removing emojis"
   ]
  },
  {
   "cell_type": "code",
   "execution_count": 19,
   "id": "f12f4bae",
   "metadata": {},
   "outputs": [],
   "source": [
    "emoji_pattern = re.compile(\n",
    "    r\"[\"\n",
    "    r\"\\U0001F600-\\U0001F64F\"  # emoticons\n",
    "    r\"\\U0001F300-\\U0001F5FF\"  # symbols & pictographs\n",
    "    r\"\\U0001F680-\\U0001F6FF\"  # transport & map symbols\n",
    "    r\"\\U0001F700-\\U0001F77F\"  # alchemical symbols\n",
    "    r\"\\U0001F780-\\U0001F7FF\"  # Geometric Shapes Extended\n",
    "    r\"\\U0001F800-\\U0001F8FF\"  # Supplemental Arrows-C\n",
    "    r\"\\U0001F900-\\U0001F9FF\"  # Supplemental Symbols and Pictographs\n",
    "    r\"\\U0001FA00-\\U0001FA6F\"  # Chess symbols\n",
    "    r\"\\U0001FA70-\\U0001FAFF\"  # Symbols and pictographs extended\n",
    "    r\"\\U00002702-\\U000027B0\"  # Dingbats\n",
    "    r\"\\U000024C2-\\U0001F251\"  # Enclosed characters\n",
    "    r\"\\U0001F004-\\U0001F0CF\"  # Playing cards\n",
    "    r\"\\U0001F170-\\U0001F251\"  # Miscellaneous symbols\n",
    "    r\"]\", flags=re.UNICODE\n",
    ")"
   ]
  },
  {
   "cell_type": "code",
   "execution_count": 20,
   "id": "125d2ed7",
   "metadata": {},
   "outputs": [],
   "source": [
    "# For emojis\n",
    "def remove_emojis(text: str) -> str:\n",
    "    return re.sub(emoji_pattern, '', text)\n",
    "\n",
    "dataset = dataset.with_columns(\n",
    "    polars.col('Text').\n",
    "    map_elements(\n",
    "        function=lambda r: remove_emojis(r),\n",
    "        return_dtype=polars.String\n",
    "    ).alias('Cleaned Text')\n",
    ")"
   ]
  },
  {
   "cell_type": "code",
   "execution_count": 21,
   "id": "e5da191b",
   "metadata": {},
   "outputs": [
    {
     "data": {
      "text/html": [
       "<div><style>\n",
       ".dataframe > thead > tr,\n",
       ".dataframe > tbody > tr {\n",
       "  text-align: right;\n",
       "  white-space: pre-wrap;\n",
       "}\n",
       "</style>\n",
       "<small>shape: (5, 3)</small><table border=\"1\" class=\"dataframe\"><thead><tr><th>Text</th><th>Language</th><th>Cleaned Text</th></tr><tr><td>str</td><td>str</td><td>str</td></tr></thead><tbody><tr><td>&quot; Nature, in the broadest sense…</td><td>&quot;English&quot;</td><td>&quot; Nature, in the broadest sense…</td></tr><tr><td>&quot;&quot;Nature&quot; can refer to the phen…</td><td>&quot;English&quot;</td><td>&quot;&quot;Nature&quot; can refer to the phen…</td></tr><tr><td>&quot;The study of nature is a large…</td><td>&quot;English&quot;</td><td>&quot;The study of nature is a large…</td></tr><tr><td>&quot;Although humans are part of na…</td><td>&quot;English&quot;</td><td>&quot;Although humans are part of na…</td></tr><tr><td>&quot;[1] The word nature is borrowe…</td><td>&quot;English&quot;</td><td>&quot;[1] The word nature is borrowe…</td></tr></tbody></table></div>"
      ],
      "text/plain": [
       "shape: (5, 3)\n",
       "┌─────────────────────────────────┬──────────┬─────────────────────────────────┐\n",
       "│ Text                            ┆ Language ┆ Cleaned Text                    │\n",
       "│ ---                             ┆ ---      ┆ ---                             │\n",
       "│ str                             ┆ str      ┆ str                             │\n",
       "╞═════════════════════════════════╪══════════╪═════════════════════════════════╡\n",
       "│  Nature, in the broadest sense… ┆ English  ┆  Nature, in the broadest sense… │\n",
       "│ \"Nature\" can refer to the phen… ┆ English  ┆ \"Nature\" can refer to the phen… │\n",
       "│ The study of nature is a large… ┆ English  ┆ The study of nature is a large… │\n",
       "│ Although humans are part of na… ┆ English  ┆ Although humans are part of na… │\n",
       "│ [1] The word nature is borrowe… ┆ English  ┆ [1] The word nature is borrowe… │\n",
       "└─────────────────────────────────┴──────────┴─────────────────────────────────┘"
      ]
     },
     "execution_count": 21,
     "metadata": {},
     "output_type": "execute_result"
    }
   ],
   "source": [
    "dataset.head()"
   ]
  },
  {
   "cell_type": "markdown",
   "id": "44517c1b",
   "metadata": {},
   "source": [
    "## Removing noisy data"
   ]
  },
  {
   "cell_type": "code",
   "execution_count": 22,
   "id": "486fda43",
   "metadata": {},
   "outputs": [],
   "source": [
    "substitutions = [\n",
    "    (r'<.*?>', ''),                           # HTML tags\n",
    "    (r'http\\S+|www\\S+|ftp\\S+', ''),           # URLs\n",
    "    (r'@\\w+', ''),                            # Mentions (e.g., @username)\n",
    "    (r'[^\\w\\s.,!?¿¡:؛،。’‘“”\\'\"—\\-()]+', ''),  # Non-linguistic symbols (preserve punctuations)\n",
    "    (r'\\s+', ' '),                            # Normalize whitespace\n",
    "]"
   ]
  },
  {
   "cell_type": "code",
   "execution_count": 23,
   "id": "7b7218aa",
   "metadata": {},
   "outputs": [
    {
     "data": {
      "text/html": [
       "<div><style>\n",
       ".dataframe > thead > tr,\n",
       ".dataframe > tbody > tr {\n",
       "  text-align: right;\n",
       "  white-space: pre-wrap;\n",
       "}\n",
       "</style>\n",
       "<small>shape: (5, 3)</small><table border=\"1\" class=\"dataframe\"><thead><tr><th>Text</th><th>Language</th><th>Cleaned Text</th></tr><tr><td>str</td><td>str</td><td>str</td></tr></thead><tbody><tr><td>&quot; Nature, in the broadest sense…</td><td>&quot;English&quot;</td><td>&quot;Nature, in the broadest sense,…</td></tr><tr><td>&quot;&quot;Nature&quot; can refer to the phen…</td><td>&quot;English&quot;</td><td>&quot;&quot;Nature&quot; can refer to the phen…</td></tr><tr><td>&quot;The study of nature is a large…</td><td>&quot;English&quot;</td><td>&quot;The study of nature is a large…</td></tr><tr><td>&quot;Although humans are part of na…</td><td>&quot;English&quot;</td><td>&quot;Although humans are part of na…</td></tr><tr><td>&quot;[1] The word nature is borrowe…</td><td>&quot;English&quot;</td><td>&quot;1 The word nature is borrowed …</td></tr></tbody></table></div>"
      ],
      "text/plain": [
       "shape: (5, 3)\n",
       "┌─────────────────────────────────┬──────────┬─────────────────────────────────┐\n",
       "│ Text                            ┆ Language ┆ Cleaned Text                    │\n",
       "│ ---                             ┆ ---      ┆ ---                             │\n",
       "│ str                             ┆ str      ┆ str                             │\n",
       "╞═════════════════════════════════╪══════════╪═════════════════════════════════╡\n",
       "│  Nature, in the broadest sense… ┆ English  ┆ Nature, in the broadest sense,… │\n",
       "│ \"Nature\" can refer to the phen… ┆ English  ┆ \"Nature\" can refer to the phen… │\n",
       "│ The study of nature is a large… ┆ English  ┆ The study of nature is a large… │\n",
       "│ Although humans are part of na… ┆ English  ┆ Although humans are part of na… │\n",
       "│ [1] The word nature is borrowe… ┆ English  ┆ 1 The word nature is borrowed … │\n",
       "└─────────────────────────────────┴──────────┴─────────────────────────────────┘"
      ]
     },
     "execution_count": 23,
     "metadata": {},
     "output_type": "execute_result"
    }
   ],
   "source": [
    "def clean_text(text: str):\n",
    "    if text is None:\n",
    "        return ''\n",
    "    for pattern, repl in substitutions:\n",
    "        text = re.sub(pattern, repl, text)\n",
    "    return text.strip()\n",
    "\n",
    "dataset = dataset.with_columns(\n",
    "    polars.col('Cleaned Text').\n",
    "    map_elements(function=lambda n: clean_text(n), return_dtype=polars.Utf8).\n",
    "    alias('Cleaned Text')\n",
    ")\n",
    "\n",
    "dataset.head()"
   ]
  },
  {
   "cell_type": "code",
   "execution_count": 48,
   "id": "8b0693ef",
   "metadata": {},
   "outputs": [],
   "source": [
    "dataset.write_csv('Cleaned Language Dataset.csv')"
   ]
  },
  {
   "cell_type": "markdown",
   "id": "d66855b2",
   "metadata": {},
   "source": [
    "# Data Splitting"
   ]
  },
  {
   "cell_type": "code",
   "execution_count": 3,
   "id": "220bba3c",
   "metadata": {},
   "outputs": [],
   "source": [
    "dataset = polars.read_csv('Cleaned Language Dataset.csv')"
   ]
  },
  {
   "cell_type": "code",
   "execution_count": 4,
   "id": "e979494b",
   "metadata": {},
   "outputs": [
    {
     "data": {
      "text/html": [
       "<div><style>\n",
       ".dataframe > thead > tr,\n",
       ".dataframe > tbody > tr {\n",
       "  text-align: right;\n",
       "  white-space: pre-wrap;\n",
       "}\n",
       "</style>\n",
       "<small>shape: (5, 1)</small><table border=\"1\" class=\"dataframe\"><thead><tr><th>Cleaned Text</th></tr><tr><td>str</td></tr></thead><tbody><tr><td>&quot;Nature, in the broadest sense,…</td></tr><tr><td>&quot;&quot;Nature&quot; can refer to the phen…</td></tr><tr><td>&quot;The study of nature is a large…</td></tr><tr><td>&quot;Although humans are part of na…</td></tr><tr><td>&quot;1 The word nature is borrowed …</td></tr></tbody></table></div>"
      ],
      "text/plain": [
       "shape: (5, 1)\n",
       "┌─────────────────────────────────┐\n",
       "│ Cleaned Text                    │\n",
       "│ ---                             │\n",
       "│ str                             │\n",
       "╞═════════════════════════════════╡\n",
       "│ Nature, in the broadest sense,… │\n",
       "│ \"Nature\" can refer to the phen… │\n",
       "│ The study of nature is a large… │\n",
       "│ Although humans are part of na… │\n",
       "│ 1 The word nature is borrowed … │\n",
       "└─────────────────────────────────┘"
      ]
     },
     "execution_count": 4,
     "metadata": {},
     "output_type": "execute_result"
    }
   ],
   "source": [
    "texts = dataset[:, -1:]\n",
    "texts.head()"
   ]
  },
  {
   "cell_type": "code",
   "execution_count": 5,
   "id": "98744786",
   "metadata": {},
   "outputs": [
    {
     "data": {
      "text/html": [
       "<div><style>\n",
       ".dataframe > thead > tr,\n",
       ".dataframe > tbody > tr {\n",
       "  text-align: right;\n",
       "  white-space: pre-wrap;\n",
       "}\n",
       "</style>\n",
       "<small>shape: (5, 1)</small><table border=\"1\" class=\"dataframe\"><thead><tr><th>Language</th></tr><tr><td>str</td></tr></thead><tbody><tr><td>&quot;English&quot;</td></tr><tr><td>&quot;English&quot;</td></tr><tr><td>&quot;English&quot;</td></tr><tr><td>&quot;English&quot;</td></tr><tr><td>&quot;English&quot;</td></tr></tbody></table></div>"
      ],
      "text/plain": [
       "shape: (5, 1)\n",
       "┌──────────┐\n",
       "│ Language │\n",
       "│ ---      │\n",
       "│ str      │\n",
       "╞══════════╡\n",
       "│ English  │\n",
       "│ English  │\n",
       "│ English  │\n",
       "│ English  │\n",
       "│ English  │\n",
       "└──────────┘"
      ]
     },
     "execution_count": 5,
     "metadata": {},
     "output_type": "execute_result"
    }
   ],
   "source": [
    "lang = dataset[:, 1:2]\n",
    "lang.head()"
   ]
  },
  {
   "cell_type": "code",
   "execution_count": 6,
   "id": "e72cbfbb",
   "metadata": {},
   "outputs": [],
   "source": [
    "xtrain, xtest, ytrain, ytest = train_test_split(texts, lang, test_size=0.2, random_state=42, stratify=dataset['Language'])\n",
    "xval, xtest, yval, ytest = train_test_split(xtest, ytest, test_size=0.5, random_state=42, stratify=ytest['Language'])"
   ]
  },
  {
   "cell_type": "markdown",
   "id": "ed92402c",
   "metadata": {},
   "source": [
    "## Checking for class distribution in train set"
   ]
  },
  {
   "cell_type": "code",
   "execution_count": 34,
   "id": "074d8bd1",
   "metadata": {},
   "outputs": [
    {
     "data": {
      "text/plain": [
       "<Axes: xlabel='Language', ylabel='count'>"
      ]
     },
     "execution_count": 34,
     "metadata": {},
     "output_type": "execute_result"
    },
    {
     "data": {
      "image/png": "[encoded data removed]",
      "text/plain": [
       "<Figure size 1700x400 with 1 Axes>"
      ]
     },
     "metadata": {},
     "output_type": "display_data"
    }
   ],
   "source": [
    "mplot.figure(figsize=(17, 4))\n",
    "seaborn.barplot(data=ytrain['Language'].value_counts(), x='Language', y='count')"
   ]
  },
  {
   "cell_type": "markdown",
   "id": "ae36a03d",
   "metadata": {},
   "source": [
    "# Encoding target variable\n",
    "##### Using Label Encoding for this purpose"
   ]
  },
  {
   "cell_type": "code",
   "execution_count": 9,
   "id": "cdafebf4",
   "metadata": {},
   "outputs": [
    {
     "data": {
      "text/html": [
       "<style>#sk-container-id-1 {\n",
       "  /* Definition of color scheme common for light and dark mode */\n",
       "  --sklearn-color-text: #000;\n",
       "  --sklearn-color-text-muted: #666;\n",
       "  --sklearn-color-line: gray;\n",
       "  /* Definition of color scheme for unfitted estimators */\n",
       "  --sklearn-color-unfitted-level-0: #fff5e6;\n",
       "  --sklearn-color-unfitted-level-1: #f6e4d2;\n",
       "  --sklearn-color-unfitted-level-2: #ffe0b3;\n",
       "  --sklearn-color-unfitted-level-3: chocolate;\n",
       "  /* Definition of color scheme for fitted estimators */\n",
       "  --sklearn-color-fitted-level-0: #f0f8ff;\n",
       "  --sklearn-color-fitted-level-1: #d4ebff;\n",
       "  --sklearn-color-fitted-level-2: #b3dbfd;\n",
       "  --sklearn-color-fitted-level-3: cornflowerblue;\n",
       "\n",
       "  /* Specific color for light theme */\n",
       "  --sklearn-color-text-on-default-background: var(--sg-text-color, var(--theme-code-foreground, var(--jp-content-font-color1, black)));\n",
       "  --sklearn-color-background: var(--sg-background-color, var(--theme-background, var(--jp-layout-color0, white)));\n",
       "  --sklearn-color-border-box: var(--sg-text-color, var(--theme-code-foreground, var(--jp-content-font-color1, black)));\n",
       "  --sklearn-color-icon: #696969;\n",
       "\n",
       "  @media (prefers-color-scheme: dark) {\n",
       "    /* Redefinition of color scheme for dark theme */\n",
       "    --sklearn-color-text-on-default-background: var(--sg-text-color, var(--theme-code-foreground, var(--jp-content-font-color1, white)));\n",
       "    --sklearn-color-background: var(--sg-background-color, var(--theme-background, var(--jp-layout-color0, #111)));\n",
       "    --sklearn-color-border-box: var(--sg-text-color, var(--theme-code-foreground, var(--jp-content-font-color1, white)));\n",
       "    --sklearn-color-icon: #878787;\n",
       "  }\n",
       "}\n",
       "\n",
       "#sk-container-id-1 {\n",
       "  color: var(--sklearn-color-text);\n",
       "}\n",
       "\n",
       "#sk-container-id-1 pre {\n",
       "  padding: 0;\n",
       "}\n",
       "\n",
       "#sk-container-id-1 input.sk-hidden--visually {\n",
       "  border: 0;\n",
       "  clip: rect(1px 1px 1px 1px);\n",
       "  clip: rect(1px, 1px, 1px, 1px);\n",
       "  height: 1px;\n",
       "  margin: -1px;\n",
       "  overflow: hidden;\n",
       "  padding: 0;\n",
       "  position: absolute;\n",
       "  width: 1px;\n",
       "}\n",
       "\n",
       "#sk-container-id-1 div.sk-dashed-wrapped {\n",
       "  border: 1px dashed var(--sklearn-color-line);\n",
       "  margin: 0 0.4em 0.5em 0.4em;\n",
       "  box-sizing: border-box;\n",
       "  padding-bottom: 0.4em;\n",
       "  background-color: var(--sklearn-color-background);\n",
       "}\n",
       "\n",
       "#sk-container-id-1 div.sk-container {\n",
       "  /* jupyter's `normalize.less` sets `[hidden] { display: none; }`\n",
       "     but bootstrap.min.css set `[hidden] { display: none !important; }`\n",
       "     so we also need the `!important` here to be able to override the\n",
       "     default hidden behavior on the sphinx rendered scikit-learn.org.\n",
       "     See: https://github.com/scikit-learn/scikit-learn/issues/21755 */\n",
       "  display: inline-block !important;\n",
       "  position: relative;\n",
       "}\n",
       "\n",
       "#sk-container-id-1 div.sk-text-repr-fallback {\n",
       "  display: none;\n",
       "}\n",
       "\n",
       "div.sk-parallel-item,\n",
       "div.sk-serial,\n",
       "div.sk-item {\n",
       "  /* draw centered vertical line to link estimators */\n",
       "  background-image: linear-gradient(var(--sklearn-color-text-on-default-background), var(--sklearn-color-text-on-default-background));\n",
       "  background-size: 2px 100%;\n",
       "  background-repeat: no-repeat;\n",
       "  background-position: center center;\n",
       "}\n",
       "\n",
       "/* Parallel-specific style estimator block */\n",
       "\n",
       "#sk-container-id-1 div.sk-parallel-item::after {\n",
       "  content: \"\";\n",
       "  width: 100%;\n",
       "  border-bottom: 2px solid var(--sklearn-color-text-on-default-background);\n",
       "  flex-grow: 1;\n",
       "}\n",
       "\n",
       "#sk-container-id-1 div.sk-parallel {\n",
       "  display: flex;\n",
       "  align-items: stretch;\n",
       "  justify-content: center;\n",
       "  background-color: var(--sklearn-color-background);\n",
       "  position: relative;\n",
       "}\n",
       "\n",
       "#sk-container-id-1 div.sk-parallel-item {\n",
       "  display: flex;\n",
       "  flex-direction: column;\n",
       "}\n",
       "\n",
       "#sk-container-id-1 div.sk-parallel-item:first-child::after {\n",
       "  align-self: flex-end;\n",
       "  width: 50%;\n",
       "}\n",
       "\n",
       "#sk-container-id-1 div.sk-parallel-item:last-child::after {\n",
       "  align-self: flex-start;\n",
       "  width: 50%;\n",
       "}\n",
       "\n",
       "#sk-container-id-1 div.sk-parallel-item:only-child::after {\n",
       "  width: 0;\n",
       "}\n",
       "\n",
       "/* Serial-specific style estimator block */\n",
       "\n",
       "#sk-container-id-1 div.sk-serial {\n",
       "  display: flex;\n",
       "  flex-direction: column;\n",
       "  align-items: center;\n",
       "  background-color: var(--sklearn-color-background);\n",
       "  padding-right: 1em;\n",
       "  padding-left: 1em;\n",
       "}\n",
       "\n",
       "\n",
       "/* Toggleable style: style used for estimator/Pipeline/ColumnTransformer box that is\n",
       "clickable and can be expanded/collapsed.\n",
       "- Pipeline and ColumnTransformer use this feature and define the default style\n",
       "- Estimators will overwrite some part of the style using the `sk-estimator` class\n",
       "*/\n",
       "\n",
       "/* Pipeline and ColumnTransformer style (default) */\n",
       "\n",
       "#sk-container-id-1 div.sk-toggleable {\n",
       "  /* Default theme specific background. It is overwritten whether we have a\n",
       "  specific estimator or a Pipeline/ColumnTransformer */\n",
       "  background-color: var(--sklearn-color-background);\n",
       "}\n",
       "\n",
       "/* Toggleable label */\n",
       "#sk-container-id-1 label.sk-toggleable__label {\n",
       "  cursor: pointer;\n",
       "  display: flex;\n",
       "  width: 100%;\n",
       "  margin-bottom: 0;\n",
       "  padding: 0.5em;\n",
       "  box-sizing: border-box;\n",
       "  text-align: center;\n",
       "  align-items: start;\n",
       "  justify-content: space-between;\n",
       "  gap: 0.5em;\n",
       "}\n",
       "\n",
       "#sk-container-id-1 label.sk-toggleable__label .caption {\n",
       "  font-size: 0.6rem;\n",
       "  font-weight: lighter;\n",
       "  color: var(--sklearn-color-text-muted);\n",
       "}\n",
       "\n",
       "#sk-container-id-1 label.sk-toggleable__label-arrow:before {\n",
       "  /* Arrow on the left of the label */\n",
       "  content: \"▸\";\n",
       "  float: left;\n",
       "  margin-right: 0.25em;\n",
       "  color: var(--sklearn-color-icon);\n",
       "}\n",
       "\n",
       "#sk-container-id-1 label.sk-toggleable__label-arrow:hover:before {\n",
       "  color: var(--sklearn-color-text);\n",
       "}\n",
       "\n",
       "/* Toggleable content - dropdown */\n",
       "\n",
       "#sk-container-id-1 div.sk-toggleable__content {\n",
       "  max-height: 0;\n",
       "  max-width: 0;\n",
       "  overflow: hidden;\n",
       "  text-align: left;\n",
       "  /* unfitted */\n",
       "  background-color: var(--sklearn-color-unfitted-level-0);\n",
       "}\n",
       "\n",
       "#sk-container-id-1 div.sk-toggleable__content.fitted {\n",
       "  /* fitted */\n",
       "  background-color: var(--sklearn-color-fitted-level-0);\n",
       "}\n",
       "\n",
       "#sk-container-id-1 div.sk-toggleable__content pre {\n",
       "  margin: 0.2em;\n",
       "  border-radius: 0.25em;\n",
       "  color: var(--sklearn-color-text);\n",
       "  /* unfitted */\n",
       "  background-color: var(--sklearn-color-unfitted-level-0);\n",
       "}\n",
       "\n",
       "#sk-container-id-1 div.sk-toggleable__content.fitted pre {\n",
       "  /* unfitted */\n",
       "  background-color: var(--sklearn-color-fitted-level-0);\n",
       "}\n",
       "\n",
       "#sk-container-id-1 input.sk-toggleable__control:checked~div.sk-toggleable__content {\n",
       "  /* Expand drop-down */\n",
       "  max-height: 200px;\n",
       "  max-width: 100%;\n",
       "  overflow: auto;\n",
       "}\n",
       "\n",
       "#sk-container-id-1 input.sk-toggleable__control:checked~label.sk-toggleable__label-arrow:before {\n",
       "  content: \"▾\";\n",
       "}\n",
       "\n",
       "/* Pipeline/ColumnTransformer-specific style */\n",
       "\n",
       "#sk-container-id-1 div.sk-label input.sk-toggleable__control:checked~label.sk-toggleable__label {\n",
       "  color: var(--sklearn-color-text);\n",
       "  background-color: var(--sklearn-color-unfitted-level-2);\n",
       "}\n",
       "\n",
       "#sk-container-id-1 div.sk-label.fitted input.sk-toggleable__control:checked~label.sk-toggleable__label {\n",
       "  background-color: var(--sklearn-color-fitted-level-2);\n",
       "}\n",
       "\n",
       "/* Estimator-specific style */\n",
       "\n",
       "/* Colorize estimator box */\n",
       "#sk-container-id-1 div.sk-estimator input.sk-toggleable__control:checked~label.sk-toggleable__label {\n",
       "  /* unfitted */\n",
       "  background-color: var(--sklearn-color-unfitted-level-2);\n",
       "}\n",
       "\n",
       "#sk-container-id-1 div.sk-estimator.fitted input.sk-toggleable__control:checked~label.sk-toggleable__label {\n",
       "  /* fitted */\n",
       "  background-color: var(--sklearn-color-fitted-level-2);\n",
       "}\n",
       "\n",
       "#sk-container-id-1 div.sk-label label.sk-toggleable__label,\n",
       "#sk-container-id-1 div.sk-label label {\n",
       "  /* The background is the default theme color */\n",
       "  color: var(--sklearn-color-text-on-default-background);\n",
       "}\n",
       "\n",
       "/* On hover, darken the color of the background */\n",
       "#sk-container-id-1 div.sk-label:hover label.sk-toggleable__label {\n",
       "  color: var(--sklearn-color-text);\n",
       "  background-color: var(--sklearn-color-unfitted-level-2);\n",
       "}\n",
       "\n",
       "/* Label box, darken color on hover, fitted */\n",
       "#sk-container-id-1 div.sk-label.fitted:hover label.sk-toggleable__label.fitted {\n",
       "  color: var(--sklearn-color-text);\n",
       "  background-color: var(--sklearn-color-fitted-level-2);\n",
       "}\n",
       "\n",
       "/* Estimator label */\n",
       "\n",
       "#sk-container-id-1 div.sk-label label {\n",
       "  font-family: monospace;\n",
       "  font-weight: bold;\n",
       "  display: inline-block;\n",
       "  line-height: 1.2em;\n",
       "}\n",
       "\n",
       "#sk-container-id-1 div.sk-label-container {\n",
       "  text-align: center;\n",
       "}\n",
       "\n",
       "/* Estimator-specific */\n",
       "#sk-container-id-1 div.sk-estimator {\n",
       "  font-family: monospace;\n",
       "  border: 1px dotted var(--sklearn-color-border-box);\n",
       "  border-radius: 0.25em;\n",
       "  box-sizing: border-box;\n",
       "  margin-bottom: 0.5em;\n",
       "  /* unfitted */\n",
       "  background-color: var(--sklearn-color-unfitted-level-0);\n",
       "}\n",
       "\n",
       "#sk-container-id-1 div.sk-estimator.fitted {\n",
       "  /* fitted */\n",
       "  background-color: var(--sklearn-color-fitted-level-0);\n",
       "}\n",
       "\n",
       "/* on hover */\n",
       "#sk-container-id-1 div.sk-estimator:hover {\n",
       "  /* unfitted */\n",
       "  background-color: var(--sklearn-color-unfitted-level-2);\n",
       "}\n",
       "\n",
       "#sk-container-id-1 div.sk-estimator.fitted:hover {\n",
       "  /* fitted */\n",
       "  background-color: var(--sklearn-color-fitted-level-2);\n",
       "}\n",
       "\n",
       "/* Specification for estimator info (e.g. \"i\" and \"?\") */\n",
       "\n",
       "/* Common style for \"i\" and \"?\" */\n",
       "\n",
       ".sk-estimator-doc-link,\n",
       "a:link.sk-estimator-doc-link,\n",
       "a:visited.sk-estimator-doc-link {\n",
       "  float: right;\n",
       "  font-size: smaller;\n",
       "  line-height: 1em;\n",
       "  font-family: monospace;\n",
       "  background-color: var(--sklearn-color-background);\n",
       "  border-radius: 1em;\n",
       "  height: 1em;\n",
       "  width: 1em;\n",
       "  text-decoration: none !important;\n",
       "  margin-left: 0.5em;\n",
       "  text-align: center;\n",
       "  /* unfitted */\n",
       "  border: var(--sklearn-color-unfitted-level-1) 1pt solid;\n",
       "  color: var(--sklearn-color-unfitted-level-1);\n",
       "}\n",
       "\n",
       ".sk-estimator-doc-link.fitted,\n",
       "a:link.sk-estimator-doc-link.fitted,\n",
       "a:visited.sk-estimator-doc-link.fitted {\n",
       "  /* fitted */\n",
       "  border: var(--sklearn-color-fitted-level-1) 1pt solid;\n",
       "  color: var(--sklearn-color-fitted-level-1);\n",
       "}\n",
       "\n",
       "/* On hover */\n",
       "div.sk-estimator:hover .sk-estimator-doc-link:hover,\n",
       ".sk-estimator-doc-link:hover,\n",
       "div.sk-label-container:hover .sk-estimator-doc-link:hover,\n",
       ".sk-estimator-doc-link:hover {\n",
       "  /* unfitted */\n",
       "  background-color: var(--sklearn-color-unfitted-level-3);\n",
       "  color: var(--sklearn-color-background);\n",
       "  text-decoration: none;\n",
       "}\n",
       "\n",
       "div.sk-estimator.fitted:hover .sk-estimator-doc-link.fitted:hover,\n",
       ".sk-estimator-doc-link.fitted:hover,\n",
       "div.sk-label-container:hover .sk-estimator-doc-link.fitted:hover,\n",
       ".sk-estimator-doc-link.fitted:hover {\n",
       "  /* fitted */\n",
       "  background-color: var(--sklearn-color-fitted-level-3);\n",
       "  color: var(--sklearn-color-background);\n",
       "  text-decoration: none;\n",
       "}\n",
       "\n",
       "/* Span, style for the box shown on hovering the info icon */\n",
       ".sk-estimator-doc-link span {\n",
       "  display: none;\n",
       "  z-index: 9999;\n",
       "  position: relative;\n",
       "  font-weight: normal;\n",
       "  right: .2ex;\n",
       "  padding: .5ex;\n",
       "  margin: .5ex;\n",
       "  width: min-content;\n",
       "  min-width: 20ex;\n",
       "  max-width: 50ex;\n",
       "  color: var(--sklearn-color-text);\n",
       "  box-shadow: 2pt 2pt 4pt #999;\n",
       "  /* unfitted */\n",
       "  background: var(--sklearn-color-unfitted-level-0);\n",
       "  border: .5pt solid var(--sklearn-color-unfitted-level-3);\n",
       "}\n",
       "\n",
       ".sk-estimator-doc-link.fitted span {\n",
       "  /* fitted */\n",
       "  background: var(--sklearn-color-fitted-level-0);\n",
       "  border: var(--sklearn-color-fitted-level-3);\n",
       "}\n",
       "\n",
       ".sk-estimator-doc-link:hover span {\n",
       "  display: block;\n",
       "}\n",
       "\n",
       "/* \"?\"-specific style due to the `<a>` HTML tag */\n",
       "\n",
       "#sk-container-id-1 a.estimator_doc_link {\n",
       "  float: right;\n",
       "  font-size: 1rem;\n",
       "  line-height: 1em;\n",
       "  font-family: monospace;\n",
       "  background-color: var(--sklearn-color-background);\n",
       "  border-radius: 1rem;\n",
       "  height: 1rem;\n",
       "  width: 1rem;\n",
       "  text-decoration: none;\n",
       "  /* unfitted */\n",
       "  color: var(--sklearn-color-unfitted-level-1);\n",
       "  border: var(--sklearn-color-unfitted-level-1) 1pt solid;\n",
       "}\n",
       "\n",
       "#sk-container-id-1 a.estimator_doc_link.fitted {\n",
       "  /* fitted */\n",
       "  border: var(--sklearn-color-fitted-level-1) 1pt solid;\n",
       "  color: var(--sklearn-color-fitted-level-1);\n",
       "}\n",
       "\n",
       "/* On hover */\n",
       "#sk-container-id-1 a.estimator_doc_link:hover {\n",
       "  /* unfitted */\n",
       "  background-color: var(--sklearn-color-unfitted-level-3);\n",
       "  color: var(--sklearn-color-background);\n",
       "  text-decoration: none;\n",
       "}\n",
       "\n",
       "#sk-container-id-1 a.estimator_doc_link.fitted:hover {\n",
       "  /* fitted */\n",
       "  background-color: var(--sklearn-color-fitted-level-3);\n",
       "}\n",
       "</style><div id=\"sk-container-id-1\" class=\"sk-top-container\"><div class=\"sk-text-repr-fallback\"><pre>LabelEncoder()</pre><b>In a Jupyter environment, please rerun this cell to show the HTML representation or trust the notebook. <br />On GitHub, the HTML representation is unable to render, please try loading this page with nbviewer.org.</b></div><div class=\"sk-container\" hidden><div class=\"sk-item\"><div class=\"sk-estimator fitted sk-toggleable\"><input class=\"sk-toggleable__control sk-hidden--visually\" id=\"sk-estimator-id-1\" type=\"checkbox\" checked><label for=\"sk-estimator-id-1\" class=\"sk-toggleable__label fitted sk-toggleable__label-arrow\"><div><div>LabelEncoder</div></div><div><a class=\"sk-estimator-doc-link fitted\" rel=\"noreferrer\" target=\"_blank\" href=\"https://scikit-learn.org/1.6/modules/generated/sklearn.preprocessing.LabelEncoder.html\">?<span>Documentation for LabelEncoder</span></a><span class=\"sk-estimator-doc-link fitted\">i<span>Fitted</span></span></div></label><div class=\"sk-toggleable__content fitted\"><pre>LabelEncoder()</pre></div> </div></div></div></div>"
      ],
      "text/plain": [
       "LabelEncoder()"
      ]
     },
     "execution_count": 9,
     "metadata": {},
     "output_type": "execute_result"
    }
   ],
   "source": [
    "LE=  LabelEncoder()\n",
    "LE.fit(ytrain.to_numpy().reshape(-1,))"
   ]
  },
  {
   "cell_type": "code",
   "execution_count": 10,
   "id": "173c5094",
   "metadata": {},
   "outputs": [
    {
     "data": {
      "text/plain": [
       "array([17, 12, 13, ...,  2, 11, 11])"
      ]
     },
     "execution_count": 10,
     "metadata": {},
     "output_type": "execute_result"
    }
   ],
   "source": [
    "ytrain_LE = LE.transform(ytrain.to_numpy().reshape(-1,))\n",
    "ytrain_LE"
   ]
  },
  {
   "cell_type": "code",
   "execution_count": 11,
   "id": "1639101e",
   "metadata": {},
   "outputs": [
    {
     "data": {
      "text/plain": [
       "array([ 4, 16,  0, ...,  5, 13,  0])"
      ]
     },
     "execution_count": 11,
     "metadata": {},
     "output_type": "execute_result"
    }
   ],
   "source": [
    "yval_LE = LE.transform(yval.to_numpy().reshape(-1,))\n",
    "yval_LE"
   ]
  },
  {
   "cell_type": "code",
   "execution_count": 12,
   "id": "a7026874",
   "metadata": {},
   "outputs": [
    {
     "data": {
      "text/plain": [
       "array([ 2, 13,  1, ..., 13, 15, 11])"
      ]
     },
     "execution_count": 12,
     "metadata": {},
     "output_type": "execute_result"
    }
   ],
   "source": [
    "ytest_LE = LE.transform(ytest.to_numpy().reshape(-1,))\n",
    "ytest_LE"
   ]
  },
  {
   "cell_type": "markdown",
   "id": "25a68aed",
   "metadata": {},
   "source": [
    "# Model Building\n",
    "## BERT Pre-Trained Model\n",
    "##### Fine-Tuning the Transformer Based BERT model"
   ]
  },
  {
   "cell_type": "code",
   "execution_count": 22,
   "id": "9bad418c",
   "metadata": {},
   "outputs": [],
   "source": [
    "MODEL_NAME = 'xlm-roberta-base'\n",
    "NUM_LABELS = ytrain.unique().shape[0]\n",
    "MAX_LENGTH = 100"
   ]
  },
  {
   "cell_type": "code",
   "execution_count": null,
   "id": "8a9da096",
   "metadata": {},
   "outputs": [
    {
     "name": "stderr",
     "output_type": "stream",
     "text": [
      "c:\\Users\\Avik Chakraborty\\AppData\\Local\\Programs\\Python\\Python311\\Lib\\site-packages\\huggingface_hub\\file_download.py:943: FutureWarning: `resume_download` is deprecated and will be removed in version 1.0.0. Downloads always resume when possible. If you want to force a new download, use `force_download=True`.\n",
      "  warnings.warn(\n",
      "All PyTorch model weights were used when initializing TFXLMRobertaForSequenceClassification.\n",
      "\n",
      "Some weights or buffers of the TF 2.0 model TFXLMRobertaForSequenceClassification were not initialized from the PyTorch model and are newly initialized: ['classifier.dense.weight', 'classifier.dense.bias', 'classifier.out_proj.weight', 'classifier.out_proj.bias']\n",
      "You should probably TRAIN this model on a down-stream task to be able to use it for predictions and inference.\n"
     ]
    }
   ],
   "source": [
    "tokenizer = AutoTokenizer.from_pretrained(MODEL_NAME)\n",
    "xlm_roberta_model = TFAutoModelForSequenceClassification.from_pretrained(MODEL_NAME, num_labels=NUM_LABELS)"
   ]
  },
  {
   "cell_type": "markdown",
   "id": "1c304816",
   "metadata": {},
   "source": [
    "### Tokenized the data\n",
    "##### Using HuggingFace's Tokenizer for BERT"
   ]
  },
  {
   "cell_type": "code",
   "execution_count": 15,
   "id": "654a65e7",
   "metadata": {},
   "outputs": [],
   "source": [
    "# Tokenizing and encoding directly\n",
    "xtrain_encoded = tokenizer(\n",
    "    list(xtrain[:, 0]),\n",
    "    truncation=True,\n",
    "    padding=True,\n",
    "    max_length=MAX_LENGTH\n",
    ")\n",
    "\n",
    "xval_encoded = tokenizer(\n",
    "    list(xval[:, 0]),\n",
    "    truncation=True,\n",
    "    padding=True,\n",
    "    max_length=MAX_LENGTH\n",
    ")\n",
    "\n",
    "xtest_encoded = tokenizer(\n",
    "    list(xtest[:, 0]),\n",
    "    truncation=True,\n",
    "    padding=True,\n",
    "    max_length=MAX_LENGTH\n",
    ")"
   ]
  },
  {
   "cell_type": "markdown",
   "id": "605918e8",
   "metadata": {},
   "source": [
    "### Creating the datasets for the model"
   ]
  },
  {
   "cell_type": "code",
   "execution_count": 16,
   "id": "a1af8ed9",
   "metadata": {},
   "outputs": [],
   "source": [
    "train_dataset = tensorflow.data.Dataset.from_tensor_slices((\n",
    "    dict(xtrain_encoded),\n",
    "    ytrain_LE\n",
    ")).batch(16).prefetch(tensorflow.data.AUTOTUNE)\n",
    "\n",
    "validation_dataset = tensorflow.data.Dataset.from_tensor_slices((\n",
    "    dict(xval_encoded),\n",
    "    yval_LE\n",
    ")).batch(16).prefetch(tensorflow.data.AUTOTUNE)\n",
    "\n",
    "test_dataset = tensorflow.data.Dataset.from_tensor_slices((\n",
    "    dict(xtest_encoded),\n",
    "    ytest_LE\n",
    ")).batch(16).prefetch(tensorflow.data.AUTOTUNE)"
   ]
  },
  {
   "cell_type": "markdown",
   "id": "4f790a29",
   "metadata": {},
   "source": [
    "### Compiling the model"
   ]
  },
  {
   "cell_type": "code",
   "execution_count": 24,
   "id": "e22cb347",
   "metadata": {},
   "outputs": [],
   "source": [
    "# Freeze embeddings\n",
    "xlm_roberta_model.roberta.embeddings.trainable = False\n",
    "for var in xlm_roberta_model.roberta.embeddings.variables:\n",
    "    var._trainable = False\n",
    "\n",
    "# Freeze encoder layers 0–8 fully\n",
    "total_layers = len(xlm_roberta_model.roberta.encoder.layer)\n",
    "for i, layer in enumerate(xlm_roberta_model.roberta.encoder.layer):\n",
    "    is_trainable = i >= total_layers - 3\n",
    "    layer.trainable = is_trainable\n",
    "    for sublayer in layer.submodules:\n",
    "        sublayer.trainable = is_trainable\n",
    "        for var in sublayer.variables:\n",
    "            var._trainable = is_trainable\n",
    "\n",
    "# Classifier layer trainable\n",
    "xlm_roberta_model.classifier.trainable = True\n",
    "for var in xlm_roberta_model.classifier.variables:\n",
    "    var._trainable = True"
   ]
  },
  {
   "cell_type": "code",
   "execution_count": 25,
   "id": "7f15632e",
   "metadata": {},
   "outputs": [],
   "source": [
    "optimizer = tensorflow.keras.optimizers.Adam(learning_rate=5e-5)\n",
    "\n",
    "xlm_roberta_model.compile(\n",
    "    optimizer=optimizer,\n",
    "    loss=tensorflow.keras.losses.SparseCategoricalCrossentropy(from_logits=True),\n",
    "    metrics=['accuracy']\n",
    ")"
   ]
  },
  {
   "cell_type": "code",
   "execution_count": 26,
   "id": "64ca010e",
   "metadata": {},
   "outputs": [
    {
     "name": "stdout",
     "output_type": "stream",
     "text": [
      "Model: \"tfxlm_roberta_for_sequence_classification_1\"\n",
      "_________________________________________________________________\n",
      " Layer (type)                Output Shape              Param #   \n",
      "=================================================================\n",
      " roberta (TFXLMRobertaMainL  multiple                  277453056 \n",
      " ayer)                                                           \n",
      "                                                                 \n",
      " classifier (TFXLMRobertaCl  multiple                  604434    \n",
      " assificationHead)                                               \n",
      "                                                                 \n",
      "=================================================================\n",
      "Total params: 278057490 (1.04 GB)\n",
      "Trainable params: 21868050 (83.42 MB)\n",
      "Non-trainable params: 256189440 (977.29 MB)\n",
      "_________________________________________________________________\n"
     ]
    }
   ],
   "source": [
    "xlm_roberta_model.summary()"
   ]
  },
  {
   "cell_type": "markdown",
   "id": "ca1d353f",
   "metadata": {},
   "source": [
    "### Adding model callbacks\n",
    "##### These callbacks include: Early Stopping, Checkpoint, Tensorboard, Reduction of learning Rate"
   ]
  },
  {
   "cell_type": "code",
   "execution_count": 27,
   "id": "67f7ea84",
   "metadata": {},
   "outputs": [],
   "source": [
    "os.makedirs('models')\n",
    "os.makedirs('logs')"
   ]
  },
  {
   "cell_type": "code",
   "execution_count": null,
   "id": "12a2a689",
   "metadata": {},
   "outputs": [],
   "source": [
    "timestamp = datetime.datetime.now().strftime(\"%Y%m%d-%H%M%S\")\n",
    "\n",
    "# Early Stopping\n",
    "early_stopping_monitor = EarlyStopping(\n",
    "    monitor='val_loss', # Monitor the validation loss\n",
    "    patience=3,         # Number of epochs with no improvement after which training will be stopped\n",
    "    restore_best_weights=True # Restore model weights from the epoch with the best value of the monitored quantity\n",
    ")\n",
    "\n",
    "# Model Checkpoint to save data\n",
    "model_checkpoint_callback = ModelCheckpoint(\n",
    "    filepath=f'models/best_model_{timestamp}_epoch{{epoch:02d}}.h5', # Filepath to save the model weights\n",
    "    monitor='val_loss', # Metric to monitor\n",
    "    save_best_only=True, # Only save when the monitored metric is the best seen so far\n",
    "    save_weights_only=False, # Save the entire model\n",
    "    mode='min', # The monitored metric ('val_loss') should be minimized\n",
    "    verbose=1 # Print a message when a checkpoint is saved\n",
    ")\n",
    "\n",
    "# Reducing Learning Rate On Plateau stage\n",
    "# Reducing learning rate if validation loss plateaus\n",
    "reduce_lr_on_plateau = ReduceLROnPlateau(\n",
    "    monitor='val_loss', # Monitor the validation loss\n",
    "    factor=0.1,         # Factor by which the learning rate will be reduced. new_lr = lr * factor\n",
    "    patience=2,         # Number of epochs with no improvement after which the learning rate will be reduced\n",
    "    mode='min',         # The monitored metric ('val_loss') should be minimized\n",
    "    verbose=1,          # Print a message when the learning rate is reduced\n",
    "    min_lr=1e-6         # Lower bound on the learning rate\n",
    ")\n",
    "\n",
    "# Logging all metrics in a csv file for future use\n",
    "csv_logger = tensorflow.keras.callbacks.CSVLogger(\n",
    "    filename=f'logs/training_log_{timestamp}.csv',\n",
    "    append=True\n",
    ")"
   ]
  },
  {
   "cell_type": "code",
   "execution_count": 29,
   "id": "58c86229",
   "metadata": {},
   "outputs": [
    {
     "name": "stdout",
     "output_type": "stream",
     "text": [
      "Epoch 1/30\n",
      "WARNING:tensorflow:From c:\\Users\\Avik Chakraborty\\AppData\\Local\\Programs\\Python\\Python311\\Lib\\site-packages\\keras\\src\\utils\\tf_utils.py:492: The name tf.ragged.RaggedTensorValue is deprecated. Please use tf.compat.v1.ragged.RaggedTensorValue instead.\n",
      "\n",
      "WARNING:tensorflow:From c:\\Users\\Avik Chakraborty\\AppData\\Local\\Programs\\Python\\Python311\\Lib\\site-packages\\keras\\src\\engine\\base_layer_utils.py:384: The name tf.executing_eagerly_outside_functions is deprecated. Please use tf.compat.v1.executing_eagerly_outside_functions instead.\n",
      "\n",
      "1247/1247 [==============================] - ETA: 0s - loss: 0.5174 - accuracy: 0.8594\n",
      "Epoch 1: val_loss improved from inf to 0.18698, saving model to models\\best_model_20250610-103004_epoch01.h5\n",
      "1247/1247 [==============================] - 7385s 6s/step - loss: 0.5174 - accuracy: 0.8594 - val_loss: 0.1870 - val_accuracy: 0.9366 - lr: 5.0000e-05\n",
      "Epoch 2/30\n",
      "1247/1247 [==============================] - ETA: 0s - loss: 0.1749 - accuracy: 0.9424\n",
      "Epoch 2: val_loss improved from 0.18698 to 0.11462, saving model to models\\best_model_20250610-103004_epoch02.h5\n",
      "1247/1247 [==============================] - 6997s 6s/step - loss: 0.1749 - accuracy: 0.9424 - val_loss: 0.1146 - val_accuracy: 0.9623 - lr: 5.0000e-05\n",
      "Epoch 3/30\n",
      "1247/1247 [==============================] - ETA: 0s - loss: 0.1400 - accuracy: 0.9548\n",
      "Epoch 3: val_loss improved from 0.11462 to 0.10124, saving model to models\\best_model_20250610-103004_epoch03.h5\n",
      "1247/1247 [==============================] - 8165s 7s/step - loss: 0.1400 - accuracy: 0.9548 - val_loss: 0.1012 - val_accuracy: 0.9683 - lr: 5.0000e-05\n",
      "Epoch 4/30\n",
      "1247/1247 [==============================] - ETA: 0s - loss: 0.1145 - accuracy: 0.9616\n",
      "Epoch 4: val_loss did not improve from 0.10124\n",
      "1247/1247 [==============================] - 6951s 6s/step - loss: 0.1145 - accuracy: 0.9616 - val_loss: 0.1227 - val_accuracy: 0.9631 - lr: 5.0000e-05\n",
      "Epoch 5/30\n",
      "1247/1247 [==============================] - ETA: 0s - loss: 0.1014 - accuracy: 0.9659\n",
      "Epoch 5: val_loss improved from 0.10124 to 0.08452, saving model to models\\best_model_20250610-103004_epoch05.h5\n",
      "1247/1247 [==============================] - 6706s 5s/step - loss: 0.1014 - accuracy: 0.9659 - val_loss: 0.0845 - val_accuracy: 0.9727 - lr: 5.0000e-05\n",
      "Epoch 6/30\n",
      "1247/1247 [==============================] - ETA: 0s - loss: 0.0874 - accuracy: 0.9701\n",
      "Epoch 6: val_loss did not improve from 0.08452\n",
      "1247/1247 [==============================] - 6725s 5s/step - loss: 0.0874 - accuracy: 0.9701 - val_loss: 0.0854 - val_accuracy: 0.9747 - lr: 5.0000e-05\n",
      "Epoch 7/30\n",
      "1247/1247 [==============================] - ETA: 0s - loss: 0.0805 - accuracy: 0.9721\n",
      "Epoch 7: val_loss did not improve from 0.08452\n",
      "\n",
      "Epoch 7: ReduceLROnPlateau reducing learning rate to 4.999999873689376e-06.\n",
      "1247/1247 [==============================] - 7641s 6s/step - loss: 0.0805 - accuracy: 0.9721 - val_loss: 0.0888 - val_accuracy: 0.9707 - lr: 5.0000e-05\n",
      "Epoch 8/30\n",
      "1247/1247 [==============================] - ETA: 0s - loss: 0.0540 - accuracy: 0.9826\n",
      "Epoch 8: val_loss improved from 0.08452 to 0.06941, saving model to models\\best_model_20250610-103004_epoch08.h5\n",
      "1247/1247 [==============================] - 7227s 6s/step - loss: 0.0540 - accuracy: 0.9826 - val_loss: 0.0694 - val_accuracy: 0.9779 - lr: 5.0000e-06\n",
      "Epoch 9/30\n",
      "1247/1247 [==============================] - ETA: 0s - loss: 0.0432 - accuracy: 0.9856\n",
      "Epoch 9: val_loss improved from 0.06941 to 0.06548, saving model to models\\best_model_20250610-103004_epoch09.h5\n",
      "1247/1247 [==============================] - 6666s 5s/step - loss: 0.0432 - accuracy: 0.9856 - val_loss: 0.0655 - val_accuracy: 0.9791 - lr: 5.0000e-06\n",
      "Epoch 10/30\n",
      "1247/1247 [==============================] - ETA: 0s - loss: 0.0376 - accuracy: 0.9879\n",
      "Epoch 10: val_loss did not improve from 0.06548\n",
      "1247/1247 [==============================] - 8441s 7s/step - loss: 0.0376 - accuracy: 0.9879 - val_loss: 0.0700 - val_accuracy: 0.9783 - lr: 5.0000e-06\n",
      "Epoch 11/30\n",
      "1247/1247 [==============================] - ETA: 0s - loss: 0.0353 - accuracy: 0.9883\n",
      "Epoch 11: val_loss did not improve from 0.06548\n",
      "\n",
      "Epoch 11: ReduceLROnPlateau reducing learning rate to 1e-06.\n",
      "1247/1247 [==============================] - 6521s 5s/step - loss: 0.0353 - accuracy: 0.9883 - val_loss: 0.0678 - val_accuracy: 0.9783 - lr: 5.0000e-06\n",
      "Epoch 12/30\n",
      "1247/1247 [==============================] - ETA: 0s - loss: 0.0340 - accuracy: 0.9887\n",
      "Epoch 12: val_loss did not improve from 0.06548\n",
      "1247/1247 [==============================] - 6565s 5s/step - loss: 0.0340 - accuracy: 0.9887 - val_loss: 0.0662 - val_accuracy: 0.9783 - lr: 1.0000e-06\n"
     ]
    }
   ],
   "source": [
    "history = xlm_roberta_model.fit(\n",
    "    train_dataset,\n",
    "    validation_data=validation_dataset,\n",
    "    epochs=30,\n",
    "    callbacks=[\n",
    "        early_stopping_monitor,\n",
    "        model_checkpoint_callback,\n",
    "        reduce_lr_on_plateau,\n",
    "        csv_logger\n",
    "    ]\n",
    ")"
   ]
  },
  {
   "cell_type": "code",
   "execution_count": 30,
   "id": "9b5e24aa",
   "metadata": {},
   "outputs": [
    {
     "data": {
      "image/png": "[encoded data removed]",
      "text/plain": [
       "<Figure size 1200x500 with 2 Axes>"
      ]
     },
     "metadata": {},
     "output_type": "display_data"
    }
   ],
   "source": [
    "mplot.figure(figsize=(12, 5))\n",
    "\n",
    "# Plotting Loss\n",
    "mplot.subplot(1, 2, 1)\n",
    "mplot.plot(history.history['loss'], label='Train Loss', color='blue')\n",
    "mplot.plot(history.history['val_loss'], label='Val Loss', color='orange')\n",
    "mplot.title('Loss over Epochs')\n",
    "mplot.xlabel('Epoch')\n",
    "mplot.ylabel('Loss')\n",
    "mplot.legend()\n",
    "mplot.grid(True)\n",
    "\n",
    "# Plotting Accuracy\n",
    "mplot.subplot(1, 2, 2)\n",
    "mplot.plot(history.history['accuracy'], label='Train Accuracy', color='green')\n",
    "mplot.plot(history.history['val_accuracy'], label='Val Accuracy', color='red')\n",
    "mplot.title('Accuracy over Epochs')\n",
    "mplot.xlabel('Epoch')\n",
    "mplot.ylabel('Accuracy')\n",
    "mplot.legend()\n",
    "mplot.grid(True)\n",
    "\n",
    "mplot.tight_layout()\n",
    "mplot.show()\n"
   ]
  },
  {
   "cell_type": "markdown",
   "id": "59a9079e",
   "metadata": {},
   "source": [
    "# Model Evaluation"
   ]
  },
  {
   "cell_type": "code",
   "execution_count": 56,
   "id": "4d782bbf",
   "metadata": {},
   "outputs": [
    {
     "name": "stdout",
     "output_type": "stream",
     "text": [
      "156/156 [==============================] - 463s 3s/step - loss: 0.0771 - accuracy: 0.9775\n"
     ]
    },
    {
     "data": {
      "text/plain": [
       "[0.07708070427179337, 0.9775370955467224]"
      ]
     },
     "execution_count": 56,
     "metadata": {},
     "output_type": "execute_result"
    }
   ],
   "source": [
    "xlm_roberta_model.evaluate(test_dataset)"
   ]
  },
  {
   "cell_type": "code",
   "execution_count": 61,
   "id": "b331cdaf",
   "metadata": {},
   "outputs": [
    {
     "name": "stdout",
     "output_type": "stream",
     "text": [
      "156/156 [==============================] - 486s 3s/step\n"
     ]
    }
   ],
   "source": [
    "# Getting logits from model\n",
    "predictions = xlm_roberta_model.predict(test_dataset)"
   ]
  },
  {
   "cell_type": "code",
   "execution_count": null,
   "id": "eb358748",
   "metadata": {},
   "outputs": [],
   "source": [
    "# Converting logits to predicted class indices\n",
    "ypred = numpy.argmax(predictions.logits, axis=1)\n",
    "\n",
    "# True labels (already batched in test_dataset)\n",
    "ytrue = numpy.concatenate([y for x, y in test_dataset], axis=0)"
   ]
  },
  {
   "cell_type": "code",
   "execution_count": 64,
   "id": "d12207eb",
   "metadata": {},
   "outputs": [
    {
     "name": "stdout",
     "output_type": "stream",
     "text": [
      "              precision    recall  f1-score   support\n",
      "\n",
      "           0       0.99      0.99      0.99       138\n",
      "           1       1.00      1.00      1.00       138\n",
      "           2       0.97      0.94      0.95       139\n",
      "           3       0.93      0.96      0.95       138\n",
      "           4       0.99      0.99      0.99       139\n",
      "           5       0.99      0.98      0.98       138\n",
      "           6       0.93      0.96      0.95       139\n",
      "           7       1.00      1.00      1.00       139\n",
      "           8       1.00      1.00      1.00       138\n",
      "           9       0.94      0.96      0.95       139\n",
      "          10       1.00      1.00      1.00       139\n",
      "          11       1.00      1.00      1.00       138\n",
      "          12       0.94      0.97      0.96       139\n",
      "          13       1.00      0.99      1.00       138\n",
      "          14       0.98      0.91      0.94       139\n",
      "          15       0.96      0.96      0.96       138\n",
      "          16       1.00      1.00      1.00       138\n",
      "          17       0.98      0.99      0.98       139\n",
      "\n",
      "    accuracy                           0.98      2493\n",
      "   macro avg       0.98      0.98      0.98      2493\n",
      "weighted avg       0.98      0.98      0.98      2493\n",
      "\n"
     ]
    }
   ],
   "source": [
    "# Classificaiton report\n",
    "print(classification_report(ytrue, ypred))"
   ]
  },
  {
   "cell_type": "markdown",
   "id": "bf09c3d7",
   "metadata": {},
   "source": [
    "# Predicting with a sample"
   ]
  },
  {
   "cell_type": "code",
   "execution_count": 75,
   "id": "1cba5e8b",
   "metadata": {},
   "outputs": [],
   "source": [
    "sample_text = 'Este es un ejemplo de oración.'\n",
    "\n",
    "substitutions = [\n",
    "    (r'<.*?>', ''),                           # HTML tags\n",
    "    (r'http\\S+|www\\S+|ftp\\S+', ''),           # URLs\n",
    "    (r'@\\w+', ''),                            # Mentions (e.g., @username)\n",
    "    (r'[^\\w\\s.,!?¿¡:؛،。’‘“”\\'\"—\\-()]+', ''),  # Non-linguistic symbols (preserve punctuations)\n",
    "    (r'\\s+', ' '),                            # Normalize whitespace\n",
    "]\n",
    "\n",
    "for pattern, repl in substitutions:\n",
    "    sample_text = re.sub(pattern, repl, sample_text)\n",
    "\n",
    "sample_text = sample_text.strip()"
   ]
  },
  {
   "cell_type": "code",
   "execution_count": 76,
   "id": "96cff9b9",
   "metadata": {},
   "outputs": [],
   "source": [
    "# Tokenizing\n",
    "inputs = tokenizer(sample_text, return_tensors='tf', padding=True, truncation=True, max_length=100)"
   ]
  },
  {
   "cell_type": "code",
   "execution_count": 77,
   "id": "3a83378d",
   "metadata": {},
   "outputs": [],
   "source": [
    "# Predict logits\n",
    "outputs = xlm_roberta_model(inputs)\n",
    "logits = outputs.logits\n",
    "pred_class = tensorflow.argmax(logits, axis=1).numpy()[0]"
   ]
  },
  {
   "cell_type": "code",
   "execution_count": 78,
   "id": "42c30484",
   "metadata": {},
   "outputs": [
    {
     "name": "stdout",
     "output_type": "stream",
     "text": [
      "Sample Text: Este es un ejemplo de oración.\n",
      "Predicted Language: Spanish\n"
     ]
    }
   ],
   "source": [
    "predicted_language = LE.inverse_transform([pred_class])[0]\n",
    "\n",
    "print(f'Sample Text: {sample_text}')\n",
    "print(f'Predicted Language: {predicted_language}')"
   ]
  },
  {
   "cell_type": "markdown",
   "id": "ded46855",
   "metadata": {},
   "source": [
    "# The model outputs accurate results."
   ]
  }
 ],
 "metadata": {
  "kernelspec": {
   "display_name": "Python 3",
   "language": "python",
   "name": "python3"
  },
  "language_info": {
   "codemirror_mode": {
    "name": "ipython",
    "version": 3
   },
   "file_extension": ".py",
   "mimetype": "text/x-python",
   "name": "python",
   "nbconvert_exporter": "python",
   "pygments_lexer": "ipython3",
   "version": "3.11.9"
  }
 },
 "nbformat": 4,
 "nbformat_minor": 5
}
